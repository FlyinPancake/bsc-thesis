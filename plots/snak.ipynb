{
 "cells": [
  {
   "cell_type": "code",
   "execution_count": 5,
   "metadata": {},
   "outputs": [],
   "source": [
    "import json\n",
    "from pathlib import Path"
   ]
  },
  {
   "cell_type": "code",
   "execution_count": 18,
   "metadata": {},
   "outputs": [
    {
     "name": "stdout",
     "output_type": "stream",
     "text": [
      "[RW] Host: 96.23362337500001, vcluster: 88.711967125, vcluster / host ratio: 92.18%\n",
      "[RO] Host: 802.416983875, vcluster: 729.300195375, vcluster / host ratio: 90.89%\n"
     ]
    }
   ],
   "source": [
    "\n",
    "\n",
    "\n",
    "from statistics import mean\n",
    "\n",
    "\n",
    "host_unlimited = json.loads(Path(\"../code/test_results/host_cluster_postgres_test_2023-11-30T17:31:18.541691.json\").read_text())\n",
    "vcluster_unlimited_test_path = json.loads(Path(\"../code/test_results/vcluster_pgtest_postgres_test_2023-11-30T18:54:43.967308.json\").read_text())\n",
    "\n",
    "host_rw = [x[\"tps\"] for x in host_unlimited['read-write'].values()]\n",
    "host_rw.sort()\n",
    "host_rw_mean = mean(host_rw[1:-1])\n",
    "\n",
    "vcluster_rw = [x[\"tps\"] for x in vcluster_unlimited_test_path['read-write'].values()]\n",
    "vcluster_rw.sort()\n",
    "vcluster_rw_mean = mean(vcluster_rw[1:-1])\n",
    "\n",
    "print(f\"[RW] Host: {host_rw_mean}, vcluster: {vcluster_rw_mean}, vcluster / host ratio: {round(vcluster_rw_mean/host_rw_mean, 4) * 100:.2f}%\")\n",
    "\n",
    "host_ro = [x[\"tps\"] for x in host_unlimited['read-only'].values()]\n",
    "host_ro.sort()\n",
    "host_ro_mean = mean(host_ro[1:-1])\n",
    "\n",
    "vcluster_ro = [x[\"tps\"] for x in vcluster_unlimited_test_path['read-only'].values()]\n",
    "vcluster_ro.sort()\n",
    "vcluster_ro_mean = mean(vcluster_ro[1:-1])\n",
    "\n",
    "print(f\"[RO] Host: {host_ro_mean}, vcluster: {vcluster_ro_mean}, vcluster / host ratio: {round(vcluster_ro_mean/host_ro_mean, 4) * 100:.2f}%\")"
   ]
  }
 ],
 "metadata": {
  "kernelspec": {
   "display_name": "Python 3",
   "language": "python",
   "name": "python3"
  },
  "language_info": {
   "codemirror_mode": {
    "name": "ipython",
    "version": 3
   },
   "file_extension": ".py",
   "mimetype": "text/x-python",
   "name": "python",
   "nbconvert_exporter": "python",
   "pygments_lexer": "ipython3",
   "version": "3.12.0"
  }
 },
 "nbformat": 4,
 "nbformat_minor": 2
}
